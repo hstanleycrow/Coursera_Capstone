{
 "cells": [
  {
   "cell_type": "markdown",
   "id": "78b919a7-77be-4942-a998-0344d905e546",
   "metadata": {},
   "source": [
    "# La Batalla de los Vecindarios\n",
    "## Proyecto Capstone\n",
    "### Zonas beneficiadas con restaurantes de comida india"
   ]
  },
  {
   "cell_type": "markdown",
   "id": "8e6b9b08-e494-455c-935e-ac6486cc0b44",
   "metadata": {},
   "source": [
    "# Harold Rivas\n",
    "## Aplicacion de la ciencia de datos by IBM/Coursera"
   ]
  },
  {
   "cell_type": "markdown",
   "id": "0b8624aa-069d-4c9b-9448-62359e4cea65",
   "metadata": {},
   "source": [
    "# Introduccion"
   ]
  },
  {
   "cell_type": "markdown",
   "id": "87fc52a0-e227-410e-b1b0-a669d94a5b4a",
   "metadata": {},
   "source": [
    "Por lo general los negocios de comida, principalmente las cadenas de restaurantes, se enfrentan a la posibilidad o riesgo de cierre debido a la competencia por estar cerca de otro sitio. \n",
    "La competencia para cada negocio es esencial.\n",
    "En este proyecto, me enfoco en la posibilidad de estabalecer una cadena de comida india, e Helsinki, la capital de Finlandia. \n",
    "Servira para encontrar localidades en el vecindario o distritos donde se puedan establecer restaurantes de comida china. \n",
    "## Condiciones\n",
    "1. Localizar centros populares\n",
    "2. Identificar distritos con ausencia de restaurantes de comida india (enfocado a crear negocios nuevos) y la presencia de restaurantes de comida india, con el objetivo de moderar la competencia.\n",
    "3. Presencia de restaurantes de comida india populares."
   ]
  },
  {
   "cell_type": "markdown",
   "id": "cac34824-3c91-46eb-a0f9-1f575d3ec3ff",
   "metadata": {},
   "source": [
    "## Datos"
   ]
  },
  {
   "cell_type": "markdown",
   "id": "9fd232da-a74e-466b-8031-056e78c00b69",
   "metadata": {},
   "source": [
    "* La fuente de datos proviene de Wikipedia \n",
    "* geopy (Python package) para las coordenadas de los distritos\n",
    "* Foursquare API: para encontrar lugares, restaurantes y sus datos geospaciales"
   ]
  },
  {
   "cell_type": "code",
   "execution_count": null,
   "id": "3896b66e-95d8-4c8d-a1ba-0b3b50c29f40",
   "metadata": {},
   "outputs": [],
   "source": []
  }
 ],
 "metadata": {
  "kernelspec": {
   "display_name": "Python",
   "language": "python",
   "name": "conda-env-python-py"
  },
  "language_info": {
   "codemirror_mode": {
    "name": "ipython",
    "version": 3
   },
   "file_extension": ".py",
   "mimetype": "text/x-python",
   "name": "python",
   "nbconvert_exporter": "python",
   "pygments_lexer": "ipython3",
   "version": "3.7.12"
  }
 },
 "nbformat": 4,
 "nbformat_minor": 5
}
