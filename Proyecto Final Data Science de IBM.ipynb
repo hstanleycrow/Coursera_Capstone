{
    "cells": [
        {
            "cell_type": "markdown",
            "metadata": {
                "collapsed": true
            },
            "source": "# Este es el proyecto final de la ruta Data Science de IBM y Coursera\nEn este proyecto se deber\u00e1 **poner a prueba** lo aprendido durante toda la ruta de aprendizaje"
        },
        {
            "cell_type": "code",
            "execution_count": 2,
            "metadata": {},
            "outputs": [],
            "source": "import pandas as pd\nimport numpy as np"
        },
        {
            "cell_type": "code",
            "execution_count": 3,
            "metadata": {},
            "outputs": [
                {
                    "name": "stdout",
                    "output_type": "stream",
                    "text": "\u00a1Hola, Proyecto Final del Curso!\n"
                }
            ],
            "source": "# La seguna instruccion dice:  Imprima la siguiente declaraci\u00f3n: \u00a1Hola, Proyecto Final del Curso!, pero no indica si con python o markdown, asi que lo he hecho de las dos formas\nprint(\"\u00a1Hola, Proyecto Final del Curso!\")"
        },
        {
            "cell_type": "markdown",
            "metadata": {},
            "source": "### \u00a1Hola, Proyecto Final del Curso!"
        },
        {
            "cell_type": "code",
            "execution_count": null,
            "metadata": {},
            "outputs": [],
            "source": ""
        }
    ],
    "metadata": {
        "kernelspec": {
            "display_name": "Python 3.9",
            "language": "python",
            "name": "python3"
        },
        "language_info": {
            "codemirror_mode": {
                "name": "ipython",
                "version": 3
            },
            "file_extension": ".py",
            "mimetype": "text/x-python",
            "name": "python",
            "nbconvert_exporter": "python",
            "pygments_lexer": "ipython3",
            "version": "3.9.13"
        }
    },
    "nbformat": 4,
    "nbformat_minor": 1
}